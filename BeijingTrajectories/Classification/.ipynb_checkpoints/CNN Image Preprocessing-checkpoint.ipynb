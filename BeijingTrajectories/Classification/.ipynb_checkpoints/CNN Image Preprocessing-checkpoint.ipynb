{
 "cells": [
  {
   "cell_type": "markdown",
   "metadata": {},
   "source": [
    "# CNN Image Preprocessing\n",
    "\n",
    "Following a similar method to [Deep Feature Extraction from Trajectories for\n",
    "Transportation Mode Estimation (Endo et al.)](http://www.npal.cs.tsukuba.ac.jp/~endo/pdf/pakdd2016_endo_preprint.pdf) in producing histograms for the trajectory data.\n",
    "\n",
    "Will address the issue of sample rate inconsistencies affecting pixel intensities later."
   ]
  },
  {
   "cell_type": "code",
   "execution_count": 1,
   "metadata": {},
   "outputs": [],
   "source": [
    "%load_ext autoreload\n",
    "%autoreload 2"
   ]
  },
  {
   "cell_type": "code",
   "execution_count": 2,
   "metadata": {},
   "outputs": [],
   "source": [
    "import pandas as pd\n",
    "import numpy as np"
   ]
  },
  {
   "cell_type": "code",
   "execution_count": 3,
   "metadata": {},
   "outputs": [],
   "source": [
    "df = pd.read_csv('../Metadata/trajFeatures.csv')"
   ]
  },
  {
   "cell_type": "markdown",
   "metadata": {},
   "source": [
    "We want to determine a suitable window area to take a snapshot of our trajectories, this we will define as the median (the mean is extremely skewed) window area across all trajectories."
   ]
  },
  {
   "cell_type": "code",
   "execution_count": 4,
   "metadata": {},
   "outputs": [
    {
     "name": "stdout",
     "output_type": "stream",
     "text": [
      "Side Length: 994.6504151675744\n"
     ]
    }
   ],
   "source": [
    "print('Side Length:', np.sqrt(df['Window Area'].median()))"
   ]
  },
  {
   "cell_type": "markdown",
   "metadata": {},
   "source": [
    "This is the length of the sides of a square with an area equal to the mean window area of the trajectories.\n",
    "\n",
    "Now we need to choose the centre of the trajectory, this we will choose to be roughly equal to the centre point in the series."
   ]
  },
  {
   "cell_type": "code",
   "execution_count": 8,
   "metadata": {},
   "outputs": [],
   "source": [
    "from Scripts.chooseTraj import randTraj\n",
    "from Scripts.trajAnalysis import trajectory"
   ]
  },
  {
   "cell_type": "code",
   "execution_count": 11,
   "metadata": {},
   "outputs": [],
   "source": [
    "t = trajectory(randTraj('../../Data'))"
   ]
  },
  {
   "cell_type": "code",
   "execution_count": 12,
   "metadata": {},
   "outputs": [
    {
     "data": {
      "text/plain": [
       "array([[-494.79765909, 1709.11357406],\n",
       "       [-494.79765909, 1709.11357406],\n",
       "       [-492.32721981, 1714.67187357],\n",
       "       [-492.32721981, 1714.67187357],\n",
       "       [-489.68640541, 1717.67335529],\n",
       "       [-489.68640541, 1717.67335529],\n",
       "       [-490.02715565, 1719.56317711],\n",
       "       [-490.02715565, 1719.56317711],\n",
       "       [-489.09009248, 1719.45201112],\n",
       "       [-489.09009248, 1719.45201112],\n",
       "       [-488.66415467, 1719.45201112],\n",
       "       [-488.66415467, 1719.45201112],\n",
       "       [-489.00490491, 1721.00833497],\n",
       "       [-489.00490491, 1721.00833497],\n",
       "       [-489.00490491, 1721.7864969 ],\n",
       "       [-489.00490491, 1721.7864969 ],\n",
       "       [-489.17528004, 1721.45299893],\n",
       "       [-489.17528004, 1721.45299893],\n",
       "       [-489.2604676 , 1721.45299893],\n",
       "       [-489.2604676 , 1721.45299893],\n",
       "       [-489.68640541, 1721.56416492],\n",
       "       [-489.68640541, 1721.56416492],\n",
       "       [-489.60121785, 1721.56416492],\n",
       "       [-489.60121785, 1721.56416492],\n",
       "       [-489.43084272, 1721.56416492],\n",
       "       [-489.43084272, 1721.56416492],\n",
       "       [-489.34565516, 1721.56416492],\n",
       "       [-489.34565516, 1721.56416492],\n",
       "       [-489.00490491, 1721.56416492],\n",
       "       [-489.00490491, 1721.56416492],\n",
       "       [-488.57896711, 1721.56416492],\n",
       "       [-488.57896711, 1721.56416492],\n",
       "       [-488.32340443, 1721.56416492],\n",
       "       [-488.32340443, 1721.56416492],\n",
       "       [-488.1530293 , 1721.56416492],\n",
       "       [-488.1530293 , 1721.56416492],\n",
       "       [-488.23821686, 1721.56416492],\n",
       "       [-488.23821686, 1721.56416492],\n",
       "       [-488.57896711, 1721.56416492],\n",
       "       [-488.57896711, 1721.56416492],\n",
       "       [-488.74934223, 1721.56416492],\n",
       "       [-488.74934223, 1721.56416492],\n",
       "       [-488.57896711, 1721.56416492],\n",
       "       [-488.57896711, 1721.56416492],\n",
       "       [-488.06784174, 1721.56416492],\n",
       "       [-488.06784174, 1721.56416492],\n",
       "       [-486.19371539, 1724.00981667],\n",
       "       [-486.19371539, 1724.00981667],\n",
       "       [-484.06402636, 1727.12246435],\n",
       "       [-484.06402636, 1727.12246435],\n",
       "       [-481.59358708, 1729.12345214],\n",
       "       [-481.59358708, 1729.12345214],\n",
       "       [-478.44164731, 1731.12443993],\n",
       "       [-478.44164731, 1731.12443993],\n",
       "       [-474.60820705, 1733.01426172],\n",
       "       [-474.60820705, 1733.01426172],\n",
       "       [-719.86319613, 1276.12194393],\n",
       "       [-719.86319613, 1276.12194393]])"
      ]
     },
     "execution_count": 12,
     "metadata": {},
     "output_type": "execute_result"
    }
   ],
   "source": [
    "t.points"
   ]
  },
  {
   "cell_type": "code",
   "execution_count": 13,
   "metadata": {},
   "outputs": [
    {
     "data": {
      "text/plain": [
       "array([-489.00490491, 1721.56416492])"
      ]
     },
     "execution_count": 13,
     "metadata": {},
     "output_type": "execute_result"
    }
   ],
   "source": [
    "t.points[len(t.points)//2]"
   ]
  },
  {
   "cell_type": "markdown",
   "metadata": {},
   "source": [
    "I have written this into the `Scripts.traj2imge.imgCentre()` function. Will ideally extend it to the geometric median in future but this is computationally expensive.\n",
    "\n",
    "From this centre we now must cut out a square window (assuming journeys are approximately isotropic in frequency) with sides of the length we previously computed and convert window into a histogram. This will require us to specify the `numpy` 2Dhistogram bin range explicitly. I have modified `matMat()` accordingly."
   ]
  },
  {
   "cell_type": "code",
   "execution_count": 14,
   "metadata": {},
   "outputs": [],
   "source": [
    "from Scripts.traj2image import *"
   ]
  },
  {
   "cell_type": "code",
   "execution_count": 17,
   "metadata": {},
   "outputs": [
    {
     "data": {
      "text/plain": [
       "array([[ 0.,  0.,  0.,  0.,  0.,  0.,  0.,  0.,  0.,  0.,  0.,  0.],\n",
       "       [ 0.,  0.,  0.,  0.,  0.,  0.,  0.,  0.,  0.,  0.,  0.,  0.],\n",
       "       [ 0.,  0.,  0.,  0.,  0.,  0.,  0.,  0.,  0.,  0.,  0.,  0.],\n",
       "       [ 2.,  0.,  0.,  0.,  0.,  0.,  0.,  0.,  0.,  0.,  0.,  0.],\n",
       "       [ 0.,  0.,  0.,  0.,  0.,  0.,  0.,  0.,  0.,  0.,  0.,  0.],\n",
       "       [ 0.,  0.,  0.,  0.,  0., 14.,  8.,  0.,  0.,  0.,  0.,  0.],\n",
       "       [ 0.,  0.,  0.,  0.,  0.,  4., 30.,  0.,  0.,  0.,  0.,  0.],\n",
       "       [ 0.,  0.,  0.,  0.,  0.,  0.,  0.,  0.,  0.,  0.,  0.,  0.],\n",
       "       [ 0.,  0.,  0.,  0.,  0.,  0.,  0.,  0.,  0.,  0.,  0.,  0.],\n",
       "       [ 0.,  0.,  0.,  0.,  0.,  0.,  0.,  0.,  0.,  0.,  0.,  0.],\n",
       "       [ 0.,  0.,  0.,  0.,  0.,  0.,  0.,  0.,  0.,  0.,  0.,  0.],\n",
       "       [ 0.,  0.,  0.,  0.,  0.,  0.,  0.,  0.,  0.,  0.,  0.,  0.]])"
      ]
     },
     "execution_count": 17,
     "metadata": {},
     "output_type": "execute_result"
    }
   ],
   "source": [
    "makeMat(t,windowRange(imgCentre(t), 1000),12)"
   ]
  },
  {
   "cell_type": "markdown",
   "metadata": {},
   "source": [
    "The images will be much sparser but it hopefully this still translates to improved classification as they will all be standardised."
   ]
  }
 ],
 "metadata": {
  "kernelspec": {
   "display_name": "Python 3",
   "language": "python",
   "name": "python3"
  },
  "language_info": {
   "codemirror_mode": {
    "name": "ipython",
    "version": 3
   },
   "file_extension": ".py",
   "mimetype": "text/x-python",
   "name": "python",
   "nbconvert_exporter": "python",
   "pygments_lexer": "ipython3",
   "version": "3.5.2"
  }
 },
 "nbformat": 4,
 "nbformat_minor": 2
}
