{
 "cells": [
  {
   "cell_type": "markdown",
   "metadata": {},
   "source": [
    "# Primary Time-step and Position Analysis\n",
    "\n",
    "Determining a few parameters in relation to the raw data, namely: the average time-step, the average lattitude/longitude. These can then be used as to resample the data in the time domain and provide a sensible coordinate system."
   ]
  },
  {
   "cell_type": "markdown",
   "metadata": {},
   "source": [
    "## Time-step Analysis"
   ]
  },
  {
   "cell_type": "code",
   "execution_count": 16,
   "metadata": {},
   "outputs": [
    {
     "name": "stdout",
     "output_type": "stream",
     "text": [
      "Filtered dataset contains: 21665 trajectories\n"
     ]
    }
   ],
   "source": [
    "%matplotlib inline\n",
    "\n",
    "import csv, os, sys\n",
    "import pandas as pd\n",
    "import numpy as np\n",
    "import matplotlib.pyplot as plt\n",
    "import math\n",
    "\n",
    "thedir = '/Users/JBremner/Desktop/Beijing Trajectories/Geolife Trajectories 1.3/Data'\n",
    "\n",
    "def meanTime(root, direc, labelState, traj): #returns mean time-step of trajectory\n",
    "\n",
    "    df = pd.read_csv(root + '/' + direc + '/Trajectory/' + '/' + labelState + '/' + traj)\n",
    "    dtBar = df.dayNo.diff().mean() * 86400 #average time-step in seconds\n",
    "    return dtBar\n",
    "\n",
    "def meanTimes(root): #returns array of mean time-steps of all trajectories\n",
    "\n",
    "    dirs = [name for name in os.listdir(root) if os.path.isdir(os.path.join(root, name))]\n",
    "    meanTimes = []\n",
    "    \n",
    "    for direc in dirs:\n",
    "        trajdir = root + '/' + direc + '/Trajectory/'\n",
    "        labelStates = [name for name in os.listdir(trajdir) if os.path.isdir(os.path.join(trajdir, name))]\n",
    "        for labelState in labelStates:\n",
    "            trajs = os.listdir(root + '/' + direc + '/Trajectory/' + labelState + '/')\n",
    "            for traj in trajs:\n",
    "                dtBar = meanTime(root, direc, labelState, traj)\n",
    "                if not math.isnan(dtBar):\n",
    "                    meanTimes.append(dtBar)\n",
    "                \n",
    "    return np.array(meanTimes)\n",
    "\n",
    "meanTimes = meanTimes(thedir)\n",
    "print('Filtered dataset contains:',len(meanTimes),'trajectories')"
   ]
  },
  {
   "cell_type": "markdown",
   "metadata": {},
   "source": [
    "A histogram of the mean time-steps (in the typical range):"
   ]
  },
  {
   "cell_type": "code",
   "execution_count": 22,
   "metadata": {},
   "outputs": [
    {
     "data": {
      "image/png": "[encoded data removed]",
      "text/plain": [
       "<matplotlib.figure.Figure at 0x10e807c18>"
      ]
     },
     "metadata": {},
     "output_type": "display_data"
    }
   ],
   "source": [
    "plt.hist(meanTimes, bins=100, range=[0,20])\n",
    "plt.xlabel('Mean Time-step / s')\n",
    "plt.ylabel('Number of Trajectories')\n",
    "plt.show()"
   ]
  },
  {
   "cell_type": "markdown",
   "metadata": {},
   "source": [
    "Some distribution statistics:"
   ]
  },
  {
   "cell_type": "code",
   "execution_count": 18,
   "metadata": {},
   "outputs": [
    {
     "name": "stdout",
     "output_type": "stream",
     "text": [
      "Max: 14465.5000028 s\n",
      "Min: 0.0 s\n",
      "Mean: 20.384836371 s\n",
      "Median: 4.48470209368 s\n",
      "Standard Deviation: 198.204657622 s\n"
     ]
    }
   ],
   "source": [
    "print('Max:', np.max(meanTimes),'s')\n",
    "print('Min:', np.min(meanTimes),'s')\n",
    "print('Mean:', np.mean(meanTimes),'s')\n",
    "print('Median:', np.median(meanTimes),'s')\n",
    "print('Standard Deviation:', np.std(meanTimes),'s')"
   ]
  },
  {
   "cell_type": "markdown",
   "metadata": {},
   "source": [
    "Probably sensible to upsample the trajectories to a time-step close to the minimum step observed so as not to _lose_ resolution in any of the trajectories."
   ]
  },
  {
   "cell_type": "markdown",
   "metadata": {},
   "source": [
    "Have the option to use a simple linear interpolation but considering using polynomial or spline methods as these could give more natural trajectories without sharp edges. These may be suitable for larger space/time-steps, however most trajectories have sufficient sampling rate to simply use a linear interpolation (also given the size of the dataset)."
   ]
  },
  {
   "cell_type": "markdown",
   "metadata": {},
   "source": [
    "## Position Analysis"
   ]
  },
  {
   "cell_type": "code",
   "execution_count": 25,
   "metadata": {},
   "outputs": [],
   "source": [
    "def meanPos(root, direc, labelState, traj): #returns mean latitude/longitude coordinates from trajectory\n",
    "    \n",
    "    df = pd.read_csv(root + '/' + direc + '/Trajectory/' + labelState + '/' + traj)\n",
    "    latMean = df.Lat.mean()\n",
    "    longMean = df.Long.mean()\n",
    "    return [latMean, longMean]\n",
    "\n",
    "def meanPoss(root): #returns array of mean latitude/longitude coordinates from all trajectories\n",
    "\n",
    "    dirs = [name for name in os.listdir(root) if os.path.isdir(os.path.join(root, name))]\n",
    "    meanPoss = []\n",
    "            \n",
    "    for direc in dirs:\n",
    "        trajdir = root + '/' + direc + '/Trajectory/'\n",
    "        labelStates = [name for name in os.listdir(trajdir) if os.path.isdir(os.path.join(trajdir, name))]\n",
    "        for labelState in labelStates:\n",
    "            trajs = os.listdir(root + '/' + direc + '/Trajectory/' + labelState + '/')\n",
    "            for traj in trajs:\n",
    "                meanPoss.append(meanPos(root, direc, labelState, traj))\n",
    "\n",
    "    return np.array(meanPoss)\n",
    "\n",
    "meanPoss = meanPoss(thedir)"
   ]
  },
  {
   "cell_type": "markdown",
   "metadata": {},
   "source": [
    "A plot of the mean position distribution with statistics:"
   ]
  },
  {
   "cell_type": "code",
   "execution_count": 26,
   "metadata": {},
   "outputs": [
    {
     "data": {
      "image/png": "[encoded data removed]",
      "text/plain": [
       "<matplotlib.figure.Figure at 0x1069f4940>"
      ]
     },
     "metadata": {},
     "output_type": "display_data"
    },
    {
     "name": "stdout",
     "output_type": "stream",
     "text": [
      "Max: ['61.979938959718048', '142.879521474999990'] degrees\n",
      "Min: ['1.289692389966555', '-150.013873258347473'] degrees\n",
      "Mean: ['39.648763665307506', '115.290101256728761'] degrees\n",
      "Median: ['39.976483585105079', '116.337387332238023'] degrees\n",
      "Standard Deviation: ['2.228369429440340', '14.663587280843670'] degrees\n"
     ]
    }
   ],
   "source": [
    "plt.scatter(meanPoss[:,0],meanPoss[:,1],s=2)\n",
    "plt.xlabel('Latitude')\n",
    "plt.ylabel('Longitude')\n",
    "plt.axis('equal')\n",
    "plt.show()\n",
    "\n",
    "print('Max:', ['%.15f' % val for val in np.max(meanPoss, axis=0)],'degrees')\n",
    "print('Min:', ['%.15f' % val for val in np.min(meanPoss, axis=0)],'degrees')\n",
    "print('Mean:', ['%.15f' % val for val in np.mean(meanPoss, axis=0)],'degrees')\n",
    "print('Median:', ['%.15f' % val for val in np.median(meanPoss, axis=0)],'degrees')\n",
    "print('Standard Deviation:', ['%.15f' % val for val in np.std(meanPoss, axis=0)],'degrees')"
   ]
  },
  {
   "cell_type": "markdown",
   "metadata": {},
   "source": [
    "Could possibly use the median of the mean positions as an origin when converting the coordinates into metres. The position of the origin is arbitrary but this would aid in keeping most of the distances easily readable. I will use the Haversine function to convert the latitude/longitude to metres accurately:"
   ]
  },
  {
   "cell_type": "code",
   "execution_count": null,
   "metadata": {},
   "outputs": [],
   "source": [
    "def haversine(startPos, endPos, radius):\n",
    "    \"\"\"\n",
    "    Calculate the great circle distance between two points\n",
    "    on the earth (specified in decimal degrees)\n",
    "\n",
    "    All args must be of equal length.    \n",
    "\n",
    "    \"\"\"\n",
    "\n",
    "    lon1, lat1, lon2, lat2 = map(np.radians, [startPos[1], startPos[0], endPos[1], endPos[0]])\n",
    "\n",
    "    dlon = lon2 - lon1\n",
    "    dlat = lat2 - lat1\n",
    "\n",
    "    a = np.sin(dlat/2.0)**2 + np.cos(lat1) * np.cos(lat2) * np.sin(dlon/2.0)**2\n",
    "    c = 2 * np.arcsin(np.sqrt(a))\n",
    "    distance = radius * c\n",
    "    return distance"
   ]
  },
  {
   "cell_type": "markdown",
   "metadata": {},
   "source": [
    "Will use an ellipsoid model of the Earth to calculate the radius:"
   ]
  },
  {
   "cell_type": "code",
   "execution_count": 8,
   "metadata": {},
   "outputs": [],
   "source": [
    "def earthRad(Lat):\n",
    "\t'''\n",
    "\tCalculates the Earth's radius (in m) at a given latitude using an ellipsoidal model. Major/minor axes from NASA\n",
    "\n",
    "\t'''\n",
    "\ta = 6378137\n",
    "\tb = 6356752\n",
    "\tLat = np.radians(Lat)\n",
    "\tg = (a**2*np.cos(Lat))**2 + (b**2*np.sin(Lat))**2\n",
    "\tf = (a*np.cos(Lat))**2 + (b*np.sin(Lat))**2\n",
    "\tR = np.sqrt(g/f)\n",
    "\treturn R"
   ]
  },
  {
   "cell_type": "markdown",
   "metadata": {},
   "source": [
    "As previously suggested, I will use the median of the mean positions as the origin for the series. This may change once I filter more outliers from the data, but I'll use the current value as it won't make any difference to subsequent analysis:"
   ]
  },
  {
   "cell_type": "code",
   "execution_count": 29,
   "metadata": {},
   "outputs": [
    {
     "name": "stdout",
     "output_type": "stream",
     "text": [
      "Origin: ['39.976483585105079', '116.337387332238023'] degrees\n"
     ]
    }
   ],
   "source": [
    "print('Origin:', ['%.15f' % val for val in np.median(meanPoss, axis=0)],'degrees')"
   ]
  }
 ],
 "metadata": {
  "kernelspec": {
   "display_name": "Python 3",
   "language": "python",
   "name": "python3"
  },
  "language_info": {
   "codemirror_mode": {
    "name": "ipython",
    "version": 3
   },
   "file_extension": ".py",
   "mimetype": "text/x-python",
   "name": "python",
   "nbconvert_exporter": "python",
   "pygments_lexer": "ipython3",
   "version": "3.5.2"
  }
 },
 "nbformat": 4,
 "nbformat_minor": 2
}
